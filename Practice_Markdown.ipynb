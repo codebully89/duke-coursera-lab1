{
  "cells": [
    {
      "cell_type": "markdown",
      "metadata": {
        "id": "view-in-github",
        "colab_type": "text"
      },
      "source": [
        "<a href=\"https://colab.research.google.com/github/codebully89/duke-coursera-lab1/blob/main/Practice_Markdown.ipynb\" target=\"_parent\"><img src=\"https://colab.research.google.com/assets/colab-badge.svg\" alt=\"Open In Colab\"/></a>"
      ]
    },
    {
      "cell_type": "markdown",
      "metadata": {
        "id": "XxPszU-0aiSj"
      },
      "source": [
        "## Practice Markdown"
      ]
    },
    {
      "cell_type": "markdown",
      "metadata": {
        "id": "C5l8AlLZaiSn"
      },
      "source": [
        "This notebook lets you experiment with producing repeatable technical documentation.  Use this notebook to do the following actions:\n",
        "\n",
        "* Create a code cell and print a Python Hello World statement:  `print(\"hello world\")`\n",
        "* Create a Markdown Cell and add a Title using `#` and then a statement using plain text.  You can looks at the source code for this cell to get an idea of how to use Markdown.\n",
        "* Take some ideas from the [Master Markdown Github Guide](https://guides.github.com/features/mastering-markdown/) and implement them here.\n",
        "* Download this notebook as a `.ipynb` file and check into a Github Project.  You can [see an example here](https://github.com/noahgift/duke-coursera-ccf-lab1/blob/main/Practice-Markdown.ipynb).\n",
        "* Open your notebook in Google Colab and save it into the same Github Project.  You can [see an example here](https://github.com/noahgift/duke-coursera-ccf-lab1/blob/main/Practice_Markdown_with_colab.ipynb).\n"
      ]
    },
    {
      "cell_type": "code",
      "execution_count": null,
      "metadata": {
        "id": "0ZTbWPJbaiSo",
        "outputId": "359af96a-11db-48c5-a1e2-6216fa34341f"
      },
      "outputs": [
        {
          "name": "stdout",
          "output_type": "stream",
          "text": [
            "hello world\n"
          ]
        }
      ],
      "source": [
        "print(\"hello world\")"
      ]
    },
    {
      "cell_type": "markdown",
      "metadata": {
        "id": "Dr53DUlRaiSr"
      },
      "source": [
        "# Practicing Technical Discussion Best Practices\n",
        "\n",
        "When having technical discussions, it is best to use examples liberally. There are a number of different tools to aide in your technical discussions. \n",
        "\n",
        "Here, we are using a Jupyter notebook, however markdown in github, and git gists are another tool to aide with technical discussions, as is google colab.\n",
        "\n",
        "### Some things that we can do with Markdown and Jupyter Notebook\n",
        "\n",
        "We can format the text for emphasis using _italics_ or __bold__ formatting.\n",
        "\n",
        "We can create subscripts and footnotes like so<sub>footnote 1</sub>\n",
        "\n",
        "We can create blockquotes:\n",
        "\n",
        ">\"Critical Thinking is the most important skill one can develop\" -Probably Someone\n",
        "\n",
        "We can create code snippets inside our markdown as well, such as this:\n",
        "\n",
        "```\n",
        "def hello_name(name):\n",
        "    print(f\"Hello, {name}!\")\n",
        "```\n",
        "\n",
        "And if we want to make things super clear, we can use sytax highlighting\n",
        "\n",
        "```rust\n",
        "pub struct Person<'a> {\n",
        "    name: &'a str,\n",
        "    age: u8,\n",
        "    job: Option<String>\n",
        "}\n",
        "```\n",
        "We can have ordered lists:\n",
        "\n",
        "1. First Item\n",
        "2. Second Item\n",
        "    1. Nested Item\n",
        "3. Third Item\n",
        "\n",
        "Or unordered lists:\n",
        "\n",
        "- Bullet 1\n",
        "- Bullet 2\n",
        "    - Nested Bullet\n",
        "- Bullet 3\n",
        "\n",
        "We can even display images of adorable bulldogs (and other stuff too):\n",
        "\n",
        "\n",
        "![This is a Bulldog](https://mydoggy.rocks/wp-content/uploads/2014/09/English-bulldog-wallpaper.jpg)\n",
        "\n",
        "Pretty Cool, huh?"
      ]
    },
    {
      "cell_type": "code",
      "execution_count": null,
      "metadata": {
        "id": "HHVOl8ZhaiSs"
      },
      "outputs": [],
      "source": []
    }
  ],
  "metadata": {
    "kernelspec": {
      "display_name": "Python 3",
      "language": "python",
      "name": "python3"
    },
    "language_info": {
      "codemirror_mode": {
        "name": "ipython",
        "version": 3
      },
      "file_extension": ".py",
      "mimetype": "text/x-python",
      "name": "python",
      "nbconvert_exporter": "python",
      "pygments_lexer": "ipython3",
      "version": "3.7.6"
    },
    "colab": {
      "provenance": [],
      "include_colab_link": true
    }
  },
  "nbformat": 4,
  "nbformat_minor": 0
}